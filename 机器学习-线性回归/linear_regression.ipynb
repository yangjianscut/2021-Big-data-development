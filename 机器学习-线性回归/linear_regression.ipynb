{
 "cells": [
  {
   "cell_type": "markdown",
   "metadata": {},
   "source": [
    "## 线性回归和随机梯度下降\n",
    "### 作者：杨健\n",
    "导入数据和库函数"
   ]
  },
  {
   "cell_type": "code",
   "execution_count": 8,
   "metadata": {},
   "outputs": [
    {
     "name": "stdout",
     "output_type": "stream",
     "text": [
      "(1599, 11)\n",
      "(1599,)\n"
     ]
    }
   ],
   "source": [
    "from sklearn.datasets import load_svmlight_file\n",
    "from sklearn.model_selection import  train_test_split\n",
    "import numpy as np\n",
    "import matplotlib.pyplot as plt\n",
    "import pandas as pd\n",
    "\n",
    "#loda data from svmlight format file\n",
    "def get_data():\n",
    "    data = pd.read_csv(\"winequality-red.csv\")\n",
    "    x = data.drop(columns=['quality']).values\n",
    "    y = data['quality'].values\n",
    "    return x, y\n",
    "\n",
    "X, y = get_data()\n",
    "print(X.shape)\n",
    "print(y.shape)\n",
    "X = np.hstack((np.ones((X.shape[0], 1)), X))\n",
    "X_train, X_test, y_train, y_test = train_test_split(X, y, test_size=0.25, random_state=42)"
   ]
  },
  {
   "cell_type": "markdown",
   "metadata": {},
   "source": [
    "通过整个样本计算闭式解（解析解）\n",
    "$$W^* = (X^T X)^{-1} X^T Y$$"
   ]
  },
  {
   "cell_type": "code",
   "execution_count": 9,
   "metadata": {},
   "outputs": [],
   "source": [
    "#solve vector W use closed form\n",
    "def solve_W_closed_form(X, Y):\n",
    "    W = np.linalg.inv(X.T.dot(X)).dot(X.T).dot(Y)\n",
    "    return W\n",
    "\n",
    "#calculate loss function\n",
    "def calc_loss(X, y, W):\n",
    "    loss = 0.5*(np.linalg.norm(y-X.dot(W))**2)\n",
    "    return loss"
   ]
  },
  {
   "cell_type": "markdown",
   "metadata": {},
   "source": [
    "使用Loss函数检测有效性。\n",
    "分别计算训练集和验证集的$Loss Train$ ，$Loss Val$。"
   ]
  },
  {
   "cell_type": "code",
   "execution_count": 10,
   "metadata": {},
   "outputs": [
    {
     "name": "stdout",
     "output_type": "stream",
     "text": [
      "closed form solution W\n",
      "[ 2.00289173e+01  2.18600313e-02 -1.00869523e+00 -1.33904164e-01\n",
      "  8.85944149e-03 -1.75557840e+00  5.00853894e-03 -3.65426072e-03\n",
      " -1.62236477e+01 -3.43939544e-01  8.19819425e-01  2.86228187e-01]\n",
      "closed form solution loss:\n",
      "train_loss: \n",
      "256.2374798667127\n",
      "test_loss: \n",
      "77.66034774205714\n"
     ]
    }
   ],
   "source": [
    "W_train = solve_W_closed_form(X_train, y_train)\n",
    "print(\"closed form solution W\")\n",
    "print(W_train)\n",
    "print(\"closed form solution loss:\")\n",
    "print(\"train_loss: \")\n",
    "print(calc_loss(X_train, y_train, W_train))\n",
    "print(\"test_loss: \")\n",
    "print(calc_loss(X_test, y_test, W_train))"
   ]
  },
  {
   "cell_type": "markdown",
   "metadata": {},
   "source": [
    "通过对整个数据集求梯度来求解。\n",
    "梯度定义如下:\n",
    "$$ \\frac{\\partial \\mathcal{L_D}(W)}{\\partial W} = -X^T y + X^T X W$$"
   ]
  },
  {
   "cell_type": "code",
   "execution_count": 11,
   "metadata": {},
   "outputs": [],
   "source": [
    "#solve W  vector use gradient descent\n",
    "def solve_W_gradient_descent(X, Y, learning_rate, epoch, X_test, Y_test):\n",
    "    train_loss = []\n",
    "    test_loss = []\n",
    "    Y = Y.reshape(Y.shape[0], 1)\n",
    "    W = np.random.rand(X.shape[1], 1)\n",
    "    for i in range(epoch):\n",
    "        gradient = -X.T.dot(Y) + X.T.dot(X).dot(W)\n",
    "        #normnazie\n",
    "        gradient = gradient*(1/X.shape[0])\n",
    "        W = W - learning_rate*gradient\n",
    "        epoch_train_loss = calc_loss(X, Y, W)\n",
    "        epoch_test_loss = calc_loss(X_test, Y_test, W)\n",
    "        train_loss.append(epoch_train_loss)\n",
    "        test_loss.append(epoch_test_loss)\n",
    "    #print(loss)\n",
    "    return W,train_loss, test_loss\n"
   ]
  },
  {
   "cell_type": "code",
   "execution_count": 17,
   "metadata": {},
   "outputs": [
    {
     "data": {
      "image/png": "[encoded data removed]",
      "text/plain": [
       "<Figure size 432x288 with 1 Axes>"
      ]
     },
     "metadata": {
      "needs_background": "light"
     },
     "output_type": "display_data"
    },
    {
     "data": {
      "image/png": "[encoded data removed]",
      "text/plain": [
       "<Figure size 432x288 with 1 Axes>"
      ]
     },
     "metadata": {
      "needs_background": "light"
     },
     "output_type": "display_data"
    },
    {
     "name": "stdout",
     "output_type": "stream",
     "text": [
      "full sample gradient desent W\n",
      "[ 0.11438191 -0.01232817  0.26382632  0.65357728  0.17402809  0.42769013\n",
      "  0.00554897 -0.00632095  0.14476318  0.71031181  0.43032569  0.21577084]\n",
      "train Loss:\n",
      "346.0069772896175\n",
      "test loss:\n",
      "109.48765369706736\n"
     ]
    }
   ],
   "source": [
    "W_gra, train_loss_gra, test_loss_gra = solve_W_gradient_descent(X_train, y_train, 0.0005, 1000, X_test, y_test)\n",
    "plt.figure()\n",
    "plt.plot(train_loss_gra)\n",
    "plt.title(\"Train Loss Full Sample Gradient Descent\")\n",
    "plt.xlabel(\"Iteration\")\n",
    "plt.ylabel(\"Train Loss\")\n",
    "plt.savefig('lab1_full_sam_train.jpg')\n",
    "plt.show()\n",
    "plt.figure()\n",
    "plt.plot(test_loss_gra)\n",
    "plt.title(\"Test Loss Full Sample Gradient Descent\")\n",
    "plt.xlabel(\"Iteration\")\n",
    "plt.ylabel(\"Test Loss\")\n",
    "plt.savefig('lab1_full_sam_test.jpg')\n",
    "plt.show()\n",
    "print(\"full sample gradient desent W\")\n",
    "W_gra = W_gra.reshape((W_gra.shape[0], ))\n",
    "print(W_gra)\n",
    "print(\"train Loss:\")\n",
    "print(calc_loss(X_train, y_train, W_gra))\n",
    "print(\"test loss:\")\n",
    "print(calc_loss(X_test, y_test, W_gra))"
   ]
  },
  {
   "cell_type": "markdown",
   "metadata": {},
   "source": [
    "通过随机梯度下降来求解，梯度定义如下：\n",
    "$$ \\frac{\\partial \\mathcal{L_D}(W)}{\\partial W} = -X^T y + X^T X W$$"
   ]
  },
  {
   "cell_type": "code",
   "execution_count": 16,
   "metadata": {},
   "outputs": [],
   "source": [
    "\n",
    "def solve_W_stochastic_gradient_descent(X, Y, learning_rate, epoch, batch, X_test, Y_test):\n",
    "    train_loss = []\n",
    "    test_loss = []\n",
    "    Y = Y.reshape(Y.shape[0], 1)\n",
    "    W = np.random.rand(X.shape[1], 1)\n",
    "    for i in range(epoch):\n",
    "        bat = np.random.choice(X.shape[0], batch)\n",
    "        X_batch = X[bat]\n",
    "        Y_batch = Y[bat]\n",
    "        gradient = -X_batch.T.dot(Y_batch) + X_batch.T.dot(X_batch).dot(W)\n",
    "        gradient = gradient * (1/batch)\n",
    "        # normnazie\n",
    "        W = W - learning_rate * gradient\n",
    "        epoch_train_loss = calc_loss(X, Y, W)\n",
    "        epoch_test_loss = calc_loss(X_test, Y_test, W)\n",
    "        train_loss.append(epoch_train_loss)\n",
    "        test_loss.append(epoch_test_loss)\n",
    "    #print(loss)\n",
    "    return W,train_loss, test_loss\n"
   ]
  },
  {
   "cell_type": "code",
   "execution_count": 18,
   "metadata": {},
   "outputs": [
    {
     "data": {
      "image/png": "[encoded data removed]",
      "text/plain": [
       "<Figure size 432x288 with 1 Axes>"
      ]
     },
     "metadata": {
      "needs_background": "light"
     },
     "output_type": "display_data"
    },
    {
     "data": {
      "image/png": "[encoded data removed]",
      "text/plain": [
       "<Figure size 432x288 with 1 Axes>"
      ]
     },
     "metadata": {
      "needs_background": "light"
     },
     "output_type": "display_data"
    },
    {
     "name": "stdout",
     "output_type": "stream",
     "text": [
      "stochastic gradient desent W\n",
      "[ 0.03531321  0.19831458  0.5062562   0.42380527 -0.2794798   0.0714137\n",
      "  0.03742452 -0.0180554   0.31645812  0.94552915  0.07529089  0.08726189]\n",
      "train Loss:\n",
      "534.688561048745\n",
      "test loss:\n",
      "189.62075048265783\n"
     ]
    }
   ],
   "source": [
    "W_gra, train_loss_gra, test_loss_gra = solve_W_stochastic_gradient_descent(X_train, y_train,0.0005, 1000, 5, X_test, y_test)\n",
    "plt.figure()\n",
    "plt.plot(train_loss_gra)\n",
    "plt.title(\"Train Loss Stochastic Gradient Descent\")\n",
    "plt.xlabel(\"Iteration\")\n",
    "plt.ylabel(\"Train Loss\")\n",
    "plt.savefig('lab1_sto_sam_train.jpg')\n",
    "plt.show()\n",
    "plt.figure()\n",
    "plt.plot(test_loss_gra)\n",
    "plt.title(\"Test Loss Stochastic Gradient Descent\")\n",
    "plt.xlabel(\"Iteration\")\n",
    "plt.ylabel(\"Test Loss\")\n",
    "plt.savefig('lab1_sto_sam_test.jpg')\n",
    "plt.show()\n",
    "print(\"stochastic gradient desent W\")\n",
    "W_gra = W_gra.reshape((W_gra.shape[0], ))\n",
    "print(W_gra)\n",
    "print(\"train Loss:\")\n",
    "print(calc_loss(X_train, y_train, W_gra))\n",
    "print(\"test loss:\")\n",
    "print(calc_loss(X_test, y_test, W_gra))"
   ]
  },
  {
   "cell_type": "code",
   "execution_count": null,
   "metadata": {},
   "outputs": [],
   "source": []
  }
 ],
 "metadata": {
  "kernelspec": {
   "display_name": "Python 3",
   "language": "python",
   "name": "python3"
  },
  "language_info": {
   "codemirror_mode": {
    "name": "ipython",
    "version": 3
   },
   "file_extension": ".py",
   "mimetype": "text/x-python",
   "name": "python",
   "nbconvert_exporter": "python",
   "pygments_lexer": "ipython3",
   "version": "3.8.6"
  }
 },
 "nbformat": 4,
 "nbformat_minor": 2
}
